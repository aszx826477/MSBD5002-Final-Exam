{
 "cells": [
  {
   "cell_type": "markdown",
   "metadata": {},
   "source": [
    "# Q5 Frequent Itemset Mining"
   ]
  },
  {
   "cell_type": "markdown",
   "metadata": {},
   "source": [
    "You are required to write programs to mine the frequent itemsets (`min sup = 100`) in the provided data. Based on the frequent itemsets you mined, please write program to mine the closed frequent itemsets and maximal frequent itemsets.\n",
    "\n",
    "## Reference\n",
    "\n",
    "https://fp-growth.readthedocs.io/en/latest/readme.html#getting-started\n",
    "\n",
    "https://github.com/evandempsey/fp-growth"
   ]
  },
  {
   "cell_type": "code",
   "execution_count": 57,
   "metadata": {},
   "outputs": [],
   "source": [
    "import pyfpgrowth\n",
    "import time\n",
    "import re\n",
    "import pandas as pd"
   ]
  },
  {
   "cell_type": "markdown",
   "metadata": {},
   "source": [
    "## Task 1: Mine the frequent itemsets (min sup = 100)"
   ]
  },
  {
   "cell_type": "code",
   "execution_count": 7,
   "metadata": {},
   "outputs": [],
   "source": [
    "transactions = [] # origin data\n",
    "with open(\"freq_items_dataset.txt\",\"r\") as f:\n",
    "    for line in f.readlines():\n",
    "        transactions.append(line.strip().split())"
   ]
  },
  {
   "cell_type": "code",
   "execution_count": 14,
   "metadata": {},
   "outputs": [],
   "source": [
    "t0 = time.time()\n",
    "patterns = pyfpgrowth.find_frequent_patterns(transactions, 100)\n",
    "t1 = time.time()"
   ]
  },
  {
   "cell_type": "code",
   "execution_count": 15,
   "metadata": {},
   "outputs": [
    {
     "name": "stdout",
     "output_type": "stream",
     "text": [
      "Task 1 running time = 179.21781706809998\n"
     ]
    }
   ],
   "source": [
    "print(\"Task 1 running time = %s\" % (t1-t0))"
   ]
  },
  {
   "cell_type": "code",
   "execution_count": 69,
   "metadata": {},
   "outputs": [],
   "source": [
    "# Transfer the form of string according to the output requirement\n",
    "def transfer_to_output(x):\n",
    "    return x.replace('(', '').replace(')', '').replace(',', ' ').replace(\"'\", \"\")"
   ]
  },
  {
   "cell_type": "code",
   "execution_count": 70,
   "metadata": {},
   "outputs": [],
   "source": [
    "# Generate the task1_output.csv\n",
    "freq_items = [i for i in patterns.keys()]\n",
    "frequency = [i for i in patterns.values()]\n",
    "res = [i for i in zip(freq_items, frequency)]\n",
    "\n",
    "df_res = pd.DataFrame(res, columns=['freq_items', 'frequency'])\n",
    "df_res['freq_items'] = df_res['freq_items'].apply(lambda x: transfer_to_output(str(x)))\n",
    "df_res.to_csv(\"task1_output.csv\", index=False)"
   ]
  },
  {
   "cell_type": "code",
   "execution_count": 82,
   "metadata": {},
   "outputs": [
    {
     "name": "stdout",
     "output_type": "stream",
     "text": [
      "The number of frequent itemsets = 22438\n"
     ]
    }
   ],
   "source": [
    "print(\"The number of frequent itemsets = %s\" % len(patterns))"
   ]
  },
  {
   "cell_type": "markdown",
   "metadata": {},
   "source": [
    "## Task 2: Mine the closed frequent itemsets"
   ]
  },
  {
   "cell_type": "code",
   "execution_count": 37,
   "metadata": {},
   "outputs": [
    {
     "name": "stdout",
     "output_type": "stream",
     "text": [
      "processing: 0/22438\n",
      "processing: 1000/22438\n",
      "processing: 2000/22438\n",
      "processing: 3000/22438\n",
      "processing: 4000/22438\n",
      "processing: 5000/22438\n",
      "processing: 6000/22438\n",
      "processing: 7000/22438\n",
      "processing: 8000/22438\n",
      "processing: 9000/22438\n",
      "processing: 10000/22438\n",
      "processing: 11000/22438\n",
      "processing: 12000/22438\n",
      "processing: 13000/22438\n",
      "processing: 14000/22438\n",
      "processing: 15000/22438\n",
      "processing: 16000/22438\n",
      "processing: 17000/22438\n",
      "processing: 18000/22438\n",
      "processing: 19000/22438\n",
      "processing: 20000/22438\n",
      "processing: 21000/22438\n",
      "processing: 22000/22438\n",
      "Task 2 running time = 259.6320242881775\n"
     ]
    }
   ],
   "source": [
    "closed_freq = []\n",
    "t2 = time.time()\n",
    "total = len(patterns)\n",
    "i = 0\n",
    "for item, sup in patterns.items():\n",
    "    if i%1000 == 0:\n",
    "        print(\"processing: %s/%s\" % (i, total))\n",
    "    flag = 1\n",
    "    for k, v in patterns.items():\n",
    "        if len(k) > len(item) and set(item).issubset(k) and sup == v:\n",
    "            flag = 0\n",
    "            break\n",
    "    if flag == 1:\n",
    "        closed_freq.append(item)\n",
    "    i += 1\n",
    "t3 = time.time()\n",
    "print(\"Task 2 running time = %s\" % (t3-t2))"
   ]
  },
  {
   "cell_type": "code",
   "execution_count": 42,
   "metadata": {},
   "outputs": [
    {
     "name": "stdout",
     "output_type": "stream",
     "text": [
      "The number of closed frequent itemsets = 21797\n"
     ]
    }
   ],
   "source": [
    "print(\"The number of closed frequent itemsets = %s\" % len(closed_freq))"
   ]
  },
  {
   "cell_type": "code",
   "execution_count": 78,
   "metadata": {},
   "outputs": [],
   "source": [
    "# Generate the task2_output.csv\n",
    "res = [i for i in zip(closed_freq)]\n",
    "df_res = pd.DataFrame(res, columns=['closed_items'])\n",
    "df_res['closed_items'] = df_res['closed_items'].apply(lambda x: transfer_to_output(str(x)))\n",
    "df_res.to_csv(\"task2_output.csv\", index=False)"
   ]
  },
  {
   "cell_type": "markdown",
   "metadata": {},
   "source": [
    "## Task 3: Mine the maximal frequent itemsets."
   ]
  },
  {
   "cell_type": "code",
   "execution_count": 40,
   "metadata": {},
   "outputs": [
    {
     "name": "stdout",
     "output_type": "stream",
     "text": [
      "processing: 0/22438\n",
      "processing: 1000/22438\n",
      "processing: 2000/22438\n",
      "processing: 3000/22438\n",
      "processing: 4000/22438\n",
      "processing: 5000/22438\n",
      "processing: 6000/22438\n",
      "processing: 7000/22438\n",
      "processing: 8000/22438\n",
      "processing: 9000/22438\n",
      "processing: 10000/22438\n",
      "processing: 11000/22438\n",
      "processing: 12000/22438\n",
      "processing: 13000/22438\n",
      "processing: 14000/22438\n",
      "processing: 15000/22438\n",
      "processing: 16000/22438\n",
      "processing: 17000/22438\n",
      "processing: 18000/22438\n",
      "processing: 19000/22438\n",
      "processing: 20000/22438\n",
      "processing: 21000/22438\n",
      "processing: 22000/22438\n",
      "Task 3 running time = 132.08923029899597\n"
     ]
    }
   ],
   "source": [
    "max_freq = []\n",
    "t4 = time.time()\n",
    "total = len(patterns)\n",
    "i = 0\n",
    "for item, sup in patterns.items():\n",
    "    if i%1000 == 0:\n",
    "        print(\"processing: %s/%s\" % (i, total))\n",
    "    flag = 1\n",
    "    for k, v in patterns.items():\n",
    "        if len(k) > len(item) and set(item).issubset(k):\n",
    "            flag = 0\n",
    "            break\n",
    "    if flag == 1:\n",
    "        max_freq.append(item)\n",
    "    i += 1\n",
    "t5 = time.time()\n",
    "print(\"Task 3 running time = %s\" % (t5-t4))"
   ]
  },
  {
   "cell_type": "code",
   "execution_count": 43,
   "metadata": {},
   "outputs": [
    {
     "name": "stdout",
     "output_type": "stream",
     "text": [
      "The number of closed frequent itemsets = 4054\n"
     ]
    }
   ],
   "source": [
    "print(\"The number of maximal frequent itemsets = %s\" % len(max_freq))"
   ]
  },
  {
   "cell_type": "code",
   "execution_count": 81,
   "metadata": {},
   "outputs": [],
   "source": [
    "# Generate the task3_output.csv\n",
    "res = [i for i in zip(max_freq)]\n",
    "df_res = pd.DataFrame(res, columns=['maximal_items'])\n",
    "df_res['maximal_items'] = df_res['maximal_items'].apply(lambda x: transfer_to_output(str(x)))\n",
    "df_res.to_csv(\"task3_output.csv\", index=False)"
   ]
  }
 ],
 "metadata": {
  "kernelspec": {
   "display_name": "Python 3.6.10 64-bit ('pytorch15': conda)",
   "language": "python",
   "name": "python361064bitpytorch15conda6dfa5d11f9dc4869915e9696c35b4e03"
  },
  "language_info": {
   "codemirror_mode": {
    "name": "ipython",
    "version": 3
   },
   "file_extension": ".py",
   "mimetype": "text/x-python",
   "name": "python",
   "nbconvert_exporter": "python",
   "pygments_lexer": "ipython3",
   "version": "3.6.10"
  }
 },
 "nbformat": 4,
 "nbformat_minor": 4
}
