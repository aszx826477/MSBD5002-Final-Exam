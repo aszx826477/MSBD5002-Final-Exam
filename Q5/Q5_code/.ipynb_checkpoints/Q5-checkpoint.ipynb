{
 "cells": [
  {
   "cell_type": "markdown",
   "metadata": {},
   "source": [
    "# Q5 Frequent Itemset Mining"
   ]
  },
  {
   "cell_type": "markdown",
   "metadata": {},
   "source": [
    "You are required to write programs to mine the frequent itemsets (`min sup = 100`) in the provided data. Based on the frequent itemsets you mined, please write program to mine the closed frequent itemsets and maximal frequent itemsets.\n",
    "\n",
    "## Reference\n",
    "\n",
    "https://fp-growth.readthedocs.io/en/latest/readme.html#getting-started"
   ]
  },
  {
   "cell_type": "code",
   "execution_count": 13,
   "metadata": {},
   "outputs": [],
   "source": [
    "import pyfpgrowth\n",
    "import time"
   ]
  },
  {
   "cell_type": "markdown",
   "metadata": {},
   "source": [
    "## Task 1 Mine the frequent itemsets (min sup = 100)"
   ]
  },
  {
   "cell_type": "code",
   "execution_count": 7,
   "metadata": {},
   "outputs": [],
   "source": [
    "transactions = [] # origin data\n",
    "with open(\"freq_items_dataset.txt\",\"r\") as f:\n",
    "    for line in f.readlines():\n",
    "        transactions.append(line.strip().split())"
   ]
  },
  {
   "cell_type": "code",
   "execution_count": 14,
   "metadata": {},
   "outputs": [],
   "source": [
    "t0 = time.time()\n",
    "patterns = pyfpgrowth.find_frequent_patterns(transactions, 100)\n",
    "t1 = time.time()"
   ]
  },
  {
   "cell_type": "code",
   "execution_count": 15,
   "metadata": {},
   "outputs": [
    {
     "name": "stdout",
     "output_type": "stream",
     "text": [
      "Task 1 running time = 179.21781706809998\n"
     ]
    }
   ],
   "source": [
    "print(\"Task 1 running time = %s\" % (t1-t0))"
   ]
  },
  {
   "cell_type": "code",
   "execution_count": 36,
   "metadata": {},
   "outputs": [
    {
     "data": {
      "text/plain": [
       "22438"
      ]
     },
     "execution_count": 36,
     "metadata": {},
     "output_type": "execute_result"
    }
   ],
   "source": [
    "# Generate task1_output.csv\n",
    "freq_items = []\n",
    "frequency = []\n",
    "for item, sup in patterns.items():\n",
    "    "
   ]
  },
  {
   "cell_type": "markdown",
   "metadata": {},
   "source": [
    "## Task 2: Mine the closed frequent itemsets"
   ]
  },
  {
   "cell_type": "code",
   "execution_count": 37,
   "metadata": {},
   "outputs": [
    {
     "name": "stdout",
     "output_type": "stream",
     "text": [
      "processing: 0/22438\n",
      "processing: 1000/22438\n",
      "processing: 2000/22438\n",
      "processing: 3000/22438\n",
      "processing: 4000/22438\n",
      "processing: 5000/22438\n",
      "processing: 6000/22438\n",
      "processing: 7000/22438\n",
      "processing: 8000/22438\n",
      "processing: 9000/22438\n",
      "processing: 10000/22438\n",
      "processing: 11000/22438\n",
      "processing: 12000/22438\n",
      "processing: 13000/22438\n",
      "processing: 14000/22438\n",
      "processing: 15000/22438\n",
      "processing: 16000/22438\n",
      "processing: 17000/22438\n",
      "processing: 18000/22438\n",
      "processing: 19000/22438\n",
      "processing: 20000/22438\n",
      "processing: 21000/22438\n",
      "processing: 22000/22438\n",
      "Task 2 running time = 259.6320242881775\n"
     ]
    }
   ],
   "source": [
    "closed_freq = []\n",
    "t2 = time.time()\n",
    "total = len(patterns)\n",
    "i = 0\n",
    "for item, sup in patterns.items():\n",
    "    if i%1000 == 0:\n",
    "        print(\"processing: %s/%s\" % (i, total))\n",
    "    flag = 1\n",
    "    for k, v in patterns.items():\n",
    "        if len(k) > len(item) and set(item).issubset(k) and sup == v:\n",
    "            flag = 0\n",
    "            break\n",
    "    if flag == 1:\n",
    "        closed_freq.append(item)\n",
    "    i += 1\n",
    "t3 = time.time()\n",
    "print(\"Task 2 running time = %s\" % (t3-t2))"
   ]
  },
  {
   "cell_type": "code",
   "execution_count": 42,
   "metadata": {},
   "outputs": [
    {
     "name": "stdout",
     "output_type": "stream",
     "text": [
      "The number of closed frequent itemsets = 21797\n"
     ]
    }
   ],
   "source": [
    "print(\"The number of closed frequent itemsets = %s\" % len(closed_freq))"
   ]
  },
  {
   "cell_type": "markdown",
   "metadata": {},
   "source": [
    "## Task 3 Mine the maximal frequent itemsets."
   ]
  },
  {
   "cell_type": "code",
   "execution_count": 40,
   "metadata": {},
   "outputs": [
    {
     "name": "stdout",
     "output_type": "stream",
     "text": [
      "processing: 0/22438\n",
      "processing: 1000/22438\n",
      "processing: 2000/22438\n",
      "processing: 3000/22438\n",
      "processing: 4000/22438\n",
      "processing: 5000/22438\n",
      "processing: 6000/22438\n",
      "processing: 7000/22438\n",
      "processing: 8000/22438\n",
      "processing: 9000/22438\n",
      "processing: 10000/22438\n",
      "processing: 11000/22438\n",
      "processing: 12000/22438\n",
      "processing: 13000/22438\n",
      "processing: 14000/22438\n",
      "processing: 15000/22438\n",
      "processing: 16000/22438\n",
      "processing: 17000/22438\n",
      "processing: 18000/22438\n",
      "processing: 19000/22438\n",
      "processing: 20000/22438\n",
      "processing: 21000/22438\n",
      "processing: 22000/22438\n",
      "Task 3 running time = 132.08923029899597\n"
     ]
    }
   ],
   "source": [
    "max_freq = []\n",
    "t4 = time.time()\n",
    "total = len(patterns)\n",
    "i = 0\n",
    "for item, sup in patterns.items():\n",
    "    if i%1000 == 0:\n",
    "        print(\"processing: %s/%s\" % (i, total))\n",
    "    flag = 1\n",
    "    for k, v in patterns.items():\n",
    "        if len(k) > len(item) and set(item).issubset(k):\n",
    "            flag = 0\n",
    "            break\n",
    "    if flag == 1:\n",
    "        max_freq.append(item)\n",
    "    i += 1\n",
    "t5 = time.time()\n",
    "print(\"Task 3 running time = %s\" % (t5-t4))"
   ]
  },
  {
   "cell_type": "code",
   "execution_count": 43,
   "metadata": {},
   "outputs": [
    {
     "name": "stdout",
     "output_type": "stream",
     "text": [
      "The number of closed frequent itemsets = 4054\n"
     ]
    }
   ],
   "source": [
    "print(\"The number of maximal frequent itemsets = %s\" % len(max_freq))"
   ]
  }
 ],
 "metadata": {
  "kernelspec": {
   "display_name": "Python 3.6.10 64-bit ('pytorch15': conda)",
   "language": "python",
   "name": "python361064bitpytorch15conda6dfa5d11f9dc4869915e9696c35b4e03"
  },
  "language_info": {
   "codemirror_mode": {
    "name": "ipython",
    "version": 3
   },
   "file_extension": ".py",
   "mimetype": "text/x-python",
   "name": "python",
   "nbconvert_exporter": "python",
   "pygments_lexer": "ipython3",
   "version": "3.6.10"
  }
 },
 "nbformat": 4,
 "nbformat_minor": 4
}
