{
 "cells": [
  {
   "cell_type": "markdown",
   "metadata": {},
   "source": [
    "# Q2 Imbalanced Data Classification\n",
    "\n",
    "## Reference\n",
    "\n",
    "* 机器学习之类别不平衡问题 (3) —— 采样方法: https://www.cnblogs.com/massquantity/p/9382710.html\n",
    "* 不平衡数据集的处理: https://www.cnblogs.com/kamekin/p/9824294.html\n",
    "* imblearn document: https://imbalanced-learn.org/stable/index.html"
   ]
  },
  {
   "cell_type": "code",
   "execution_count": 244,
   "metadata": {},
   "outputs": [],
   "source": [
    "import numpy as np\n",
    "import pandas as pd\n",
    "from collections import Counter\n",
    "\n",
    "from imblearn.combine import SMOTEENN\n",
    "from imblearn.over_sampling import SMOTE\n",
    "from imblearn.ensemble import RUSBoostClassifier\n",
    "from imblearn.ensemble import BalancedRandomForestClassifier\n",
    "\n",
    "from sklearn.metrics import classification_report\n",
    "from sklearn.ensemble import RandomForestClassifier\n",
    "from sklearn.model_selection import train_test_split"
   ]
  },
  {
   "cell_type": "markdown",
   "metadata": {},
   "source": [
    "## Bi-class Datasets\n",
    "\n",
    "`v_train.csv` and `p_train.csv` are data sets with binary classes (e.g., positive, negative)."
   ]
  },
  {
   "cell_type": "markdown",
   "metadata": {},
   "source": [
    "### Use SMOTE on `v_train.csv` dataset"
   ]
  },
  {
   "cell_type": "code",
   "execution_count": 71,
   "metadata": {},
   "outputs": [],
   "source": [
    "Xv = pd.read_csv(\"v/v_train.csv\", names=[0,1,2,3,4,5,6,7,8,9,'label'])\n",
    "Xv.label.loc[Xv.label==' negative'] = 0\n",
    "Xv.label.loc[Xv.label==' positive'] = 1"
   ]
  },
  {
   "cell_type": "code",
   "execution_count": 207,
   "metadata": {},
   "outputs": [],
   "source": [
    "X = Xv.iloc[:,0:10]\n",
    "y = Xv.iloc[:, 10]"
   ]
  },
  {
   "cell_type": "code",
   "execution_count": 212,
   "metadata": {},
   "outputs": [
    {
     "name": "stdout",
     "output_type": "stream",
     "text": [
      "Before SMOTE\n",
      "Counter({0: 867, 1: 88})\n",
      "After SMOTE\n",
      "Counter({1: 867, 0: 867})\n",
      "Random Forest evalute on validation set\n",
      "              precision    recall  f1-score   support\n",
      "\n",
      "           0       0.92      0.88      0.90       160\n",
      "           1       0.90      0.93      0.92       187\n",
      "\n",
      "    accuracy                           0.91       347\n",
      "   macro avg       0.91      0.91      0.91       347\n",
      "weighted avg       0.91      0.91      0.91       347\n",
      "\n"
     ]
    }
   ],
   "source": [
    "print(\"Before SMOTE\")\n",
    "print(Counter(Xv.label))\n",
    "\n",
    "smote = SMOTE(random_state=0) \n",
    "\n",
    "X_smote, y_smote = smote.fit_sample(X, y.astype('int'))\n",
    "\n",
    "print(\"After SMOTE\")\n",
    "print(Counter(y_smote))\n",
    "\n",
    "X_train, X_val, y_train, y_val = train_test_split(X_smote, y_smote, test_size=0.2)\n",
    "\n",
    "# Random Forest Model\n",
    "rf = RandomForestClassifier(n_estimators=5, random_state=0, max_depth=2)\n",
    "rf.fit(X_train, y_train)\n",
    "y_pred = rf.predict(X_val) # do predict on validation set\n",
    "print(\"Random Forest evalute on validation set\")\n",
    "print(classification_report(y_val, y_pred)) # Show the evaluation result"
   ]
  },
  {
   "cell_type": "code",
   "execution_count": 213,
   "metadata": {},
   "outputs": [
    {
     "name": "stderr",
     "output_type": "stream",
     "text": [
      "C:\\Users\\yelbee\\Anaconda3\\envs\\pytorch15\\lib\\site-packages\\pandas\\core\\indexing.py:671: SettingWithCopyWarning: \n",
      "A value is trying to be set on a copy of a slice from a DataFrame\n",
      "\n",
      "See the caveats in the documentation: https://pandas.pydata.org/pandas-docs/stable/user_guide/indexing.html#returning-a-view-versus-a-copy\n",
      "  self._setitem_with_indexer(indexer, value)\n"
     ]
    }
   ],
   "source": [
    "# Predict on testing set\n",
    "Xv_test = pd.read_csv(\"v/v_test.csv\")\n",
    "X_test = Xv_test.iloc[:,:10]\n",
    "pred = rf.predict(Xv_test.iloc[:, :10])\n",
    "Xv_test['label'] = pred\n",
    "\n",
    "# Transfer 0/1 to negative/positive\n",
    "Xv_test.label.loc[Xv_test.label == 0] = 'negative'\n",
    "Xv_test.label.loc[Xv_test.label == 1] = 'positive'"
   ]
  },
  {
   "cell_type": "code",
   "execution_count": 214,
   "metadata": {},
   "outputs": [],
   "source": [
    "# Save to CSV file\n",
    "Xv_test.to_csv(\"v_test_pred.csv\", index=False)"
   ]
  },
  {
   "cell_type": "markdown",
   "metadata": {},
   "source": [
    "### Use SMOTEENN on `p_train.csv` dataset"
   ]
  },
  {
   "cell_type": "code",
   "execution_count": 185,
   "metadata": {},
   "outputs": [],
   "source": [
    "Xp = pd.read_csv(\"p/p_train.csv\", names=[0,1,2,3,4,5,6,7,'label'])\n",
    "Xp.label.loc[Xp.label==' negative'] = 0\n",
    "Xp.label.loc[Xp.label==' positive'] = 1"
   ]
  },
  {
   "cell_type": "code",
   "execution_count": 190,
   "metadata": {},
   "outputs": [],
   "source": [
    "X = Xp.iloc[:,0:8]\n",
    "y = Xp.iloc[:, 8]"
   ]
  },
  {
   "cell_type": "code",
   "execution_count": 191,
   "metadata": {},
   "outputs": [
    {
     "name": "stdout",
     "output_type": "stream",
     "text": [
      "Before SMOTEENN\n",
      "Counter({0: 484, 1: 261})\n",
      "After SMOTEENN\n",
      "Counter({1: 266, 0: 213})\n",
      "Random Forest evalute on validation set\n",
      "              precision    recall  f1-score   support\n",
      "\n",
      "           0       0.86      0.76      0.81        41\n",
      "           1       0.83      0.91      0.87        55\n",
      "\n",
      "    accuracy                           0.84        96\n",
      "   macro avg       0.85      0.83      0.84        96\n",
      "weighted avg       0.85      0.84      0.84        96\n",
      "\n"
     ]
    }
   ],
   "source": [
    "print(\"Before SMOTEENN\")\n",
    "print(Counter(Xp.label))\n",
    "\n",
    "sme = SMOTEENN(random_state=27)\n",
    "X_sme, y_sme = sme.fit_resample(X, y.astype('int'))\n",
    "\n",
    "print(\"After SMOTEENN\")\n",
    "print(Counter(y_sme))\n",
    "\n",
    "X_train, X_val, y_train, y_val = train_test_split(X_sme, y_sme, test_size=0.2)\n",
    "\n",
    "# Random Forest Model\n",
    "rf = RandomForestClassifier(n_estimators=5, random_state=0, max_depth=2)\n",
    "rf.fit(X_train, y_train)\n",
    "y_pred = rf.predict(X_val) # do predict on validation set\n",
    "print(\"Random Forest evalute on validation set\")\n",
    "print(classification_report(y_val, y_pred)) # Show the evaluation result"
   ]
  },
  {
   "cell_type": "code",
   "execution_count": 205,
   "metadata": {},
   "outputs": [
    {
     "name": "stderr",
     "output_type": "stream",
     "text": [
      "C:\\Users\\yelbee\\Anaconda3\\envs\\pytorch15\\lib\\site-packages\\pandas\\core\\indexing.py:671: SettingWithCopyWarning: \n",
      "A value is trying to be set on a copy of a slice from a DataFrame\n",
      "\n",
      "See the caveats in the documentation: https://pandas.pydata.org/pandas-docs/stable/user_guide/indexing.html#returning-a-view-versus-a-copy\n",
      "  self._setitem_with_indexer(indexer, value)\n"
     ]
    }
   ],
   "source": [
    "# Predict on testing set\n",
    "Xp_test = pd.read_csv(\"p/p_test.csv\")\n",
    "X_test = Xp_test.iloc[:,:8]\n",
    "pred = rf.predict(Xp_test.iloc[:,:8])\n",
    "Xp_test['label'] = pred\n",
    "\n",
    "# Transfer 0/1 to negative/positive\n",
    "Xp_test.label.loc[Xp_test.label == 0] = 'negative'\n",
    "Xp_test.label.loc[Xp_test.label == 1] = 'positive'"
   ]
  },
  {
   "cell_type": "code",
   "execution_count": 206,
   "metadata": {},
   "outputs": [],
   "source": [
    "# Save to CSV file\n",
    "Xp_test.to_csv(\"p_test_pred.csv\", index=False)"
   ]
  },
  {
   "cell_type": "markdown",
   "metadata": {},
   "source": [
    "## Multi-class Datasets\n",
    "\n",
    "`y_train.csv`, `e_train.csv` and `a_train.csv` are datasets with multi-classes."
   ]
  },
  {
   "cell_type": "markdown",
   "metadata": {},
   "source": [
    "## `y_train.csv`"
   ]
  },
  {
   "cell_type": "code",
   "execution_count": 222,
   "metadata": {},
   "outputs": [],
   "source": [
    "Xy = pd.read_csv(\"y/y_train.csv\", names=[0,1,2,3,4,5,6,7,'label'])\n",
    "Xy.label.loc[Xy.label=='MIT'] = 0\n",
    "Xy.label.loc[Xy.label=='NUC'] = 1\n",
    "Xy.label.loc[Xy.label=='CYT'] = 2\n",
    "Xy.label.loc[Xy.label=='ME1'] = 3\n",
    "Xy.label.loc[Xy.label=='EXC'] = 4\n",
    "Xy.label.loc[Xy.label=='ME2'] = 5\n",
    "Xy.label.loc[Xy.label=='ME3'] = 6\n",
    "Xy.label.loc[Xy.label=='VAC'] = 7\n",
    "Xy.label.loc[Xy.label=='POX'] = 8\n",
    "Xy.label.loc[Xy.label=='ERL'] = 9"
   ]
  },
  {
   "cell_type": "code",
   "execution_count": 223,
   "metadata": {},
   "outputs": [
    {
     "data": {
      "text/plain": [
       "Counter({0: 234,\n",
       "         1: 410,\n",
       "         2: 450,\n",
       "         3: 36,\n",
       "         4: 33,\n",
       "         5: 46,\n",
       "         6: 140,\n",
       "         7: 30,\n",
       "         8: 18,\n",
       "         9: 5})"
      ]
     },
     "execution_count": 223,
     "metadata": {},
     "output_type": "execute_result"
    }
   ],
   "source": [
    "Counter(Xy.label)"
   ]
  },
  {
   "cell_type": "code",
   "execution_count": 232,
   "metadata": {},
   "outputs": [],
   "source": [
    "X = Xy.iloc[:,0:8]\n",
    "y = Xy.iloc[:, 8]"
   ]
  },
  {
   "cell_type": "code",
   "execution_count": 254,
   "metadata": {},
   "outputs": [
    {
     "name": "stdout",
     "output_type": "stream",
     "text": [
      "Balanced Random Forest evalute on validation set\n",
      "              precision    recall  f1-score   support\n",
      "\n",
      "           0       0.23      0.27      0.25        41\n",
      "           1       0.46      0.47      0.47        87\n",
      "           2       0.38      0.03      0.06        94\n",
      "           3       0.33      0.14      0.20         7\n",
      "           4       0.25      0.75      0.38         4\n",
      "           5       0.50      0.22      0.31         9\n",
      "           6       0.64      0.74      0.69        31\n",
      "           7       0.00      0.00      0.00         4\n",
      "           8       0.02      0.50      0.03         2\n",
      "           9       0.40      1.00      0.57         2\n",
      "\n",
      "    accuracy                           0.31       281\n",
      "   macro avg       0.32      0.41      0.29       281\n",
      "weighted avg       0.40      0.31      0.30       281\n",
      "\n"
     ]
    }
   ],
   "source": [
    "X_train, X_val, y_train, y_val = train_test_split(X, y.astype('int'), test_size=0.2)\n",
    "\n",
    "# Random Forest Model\n",
    "brf = BalancedRandomForestClassifier(n_estimators=20, max_depth=2, random_state=28)\n",
    "brf.fit(X_train, y_train)\n",
    "y_pred = brf.predict(X_val) # do predict on validation set\n",
    "print(\"Balanced Random Forest evalute on validation set\")\n",
    "print(classification_report(y_val, y_pred)) # Show the evaluation result"
   ]
  },
  {
   "cell_type": "code",
   "execution_count": 247,
   "metadata": {},
   "outputs": [
    {
     "name": "stdout",
     "output_type": "stream",
     "text": [
      "RUSBoost Classifier evalute on validation set\n",
      "              precision    recall  f1-score   support\n",
      "\n",
      "           0       0.59      0.19      0.29        52\n",
      "           1       0.37      0.23      0.28        80\n",
      "           2       0.42      0.54      0.47        90\n",
      "           3       0.00      0.00      0.00         4\n",
      "           4       0.60      0.30      0.40        10\n",
      "           5       0.09      0.17      0.12         6\n",
      "           6       0.21      0.23      0.22        26\n",
      "           7       0.05      0.25      0.08         8\n",
      "           8       0.67      0.50      0.57         4\n",
      "           9       0.50      1.00      0.67         1\n",
      "\n",
      "    accuracy                           0.33       281\n",
      "   macro avg       0.35      0.34      0.31       281\n",
      "weighted avg       0.40      0.33      0.33       281\n",
      "\n"
     ]
    }
   ],
   "source": [
    "X_train, X_val, y_train, y_val = train_test_split(X, y.astype('int'), test_size=0.2)\n",
    "\n",
    "# Random Forest Model\n",
    "rusb = RUSBoostClassifier(n_estimators=50, learning_rate=1e-3, random_state=6)\n",
    "rusb.fit(X_train, y_train)\n",
    "y_pred = rusb.predict(X_val) # do predict on validation set\n",
    "print(\"RUSBoost Classifier evalute on validation set\")\n",
    "print(classification_report(y_val, y_pred)) # Show the evaluation result"
   ]
  },
  {
   "cell_type": "markdown",
   "metadata": {},
   "source": [
    "## `e_train.csv`"
   ]
  },
  {
   "cell_type": "code",
   "execution_count": null,
   "metadata": {},
   "outputs": [],
   "source": []
  },
  {
   "cell_type": "markdown",
   "metadata": {},
   "source": [
    "## `a_train.csv`"
   ]
  },
  {
   "cell_type": "code",
   "execution_count": null,
   "metadata": {},
   "outputs": [],
   "source": []
  }
 ],
 "metadata": {
  "kernelspec": {
   "display_name": "Python 3.6.10 64-bit ('pytorch15': conda)",
   "language": "python",
   "name": "python361064bitpytorch15conda6dfa5d11f9dc4869915e9696c35b4e03"
  },
  "language_info": {
   "codemirror_mode": {
    "name": "ipython",
    "version": 3
   },
   "file_extension": ".py",
   "mimetype": "text/x-python",
   "name": "python",
   "nbconvert_exporter": "python",
   "pygments_lexer": "ipython3",
   "version": "3.6.10"
  }
 },
 "nbformat": 4,
 "nbformat_minor": 4
}
