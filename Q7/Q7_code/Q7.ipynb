{
 "cells": [
  {
   "cell_type": "markdown",
   "metadata": {},
   "source": [
    "# Q7 Matrix Factorization in Graph Representation and Recommendation System"
   ]
  },
  {
   "cell_type": "code",
   "execution_count": 40,
   "metadata": {},
   "outputs": [],
   "source": [
    "import numpy as np\n",
    "import pandas as pd\n",
    "import torch\n",
    "import matplotlib.pyplot as plt"
   ]
  },
  {
   "cell_type": "markdown",
   "metadata": {},
   "source": [
    "## Task 1 Graph Representation\n",
    "\n",
    "Given the graph data `graph.npy`, please represent nodes `V` by minimizing `L_g`"
   ]
  },
  {
   "cell_type": "code",
   "execution_count": 34,
   "metadata": {},
   "outputs": [
    {
     "name": "stdout",
     "output_type": "stream",
     "text": [
      "Iteration: 0/1200\n",
      "Iteration: 200/1200\n",
      "Iteration: 400/1200\n",
      "Iteration: 600/1200\n",
      "Iteration: 800/1200\n",
      "Iteration: 1000/1200\n",
      "Final loss of Lg = 428.71881103515625\n"
     ]
    },
    {
     "data": {
      "image/png": "[encoded data removed]",
      "text/plain": [
       "<Figure size 432x288 with 1 Axes>"
      ]
     },
     "metadata": {
      "needs_background": "light"
     },
     "output_type": "display_data"
    }
   ],
   "source": [
    "d = 100 # Choose d = 100\n",
    "A = torch.from_numpy(np.load(\"graph/graph.npy\")) # shape = (500, 500)\n",
    "V = torch.rand(A.shape[0], d, requires_grad=True) # Initialize V randomly\n",
    "\n",
    "\n",
    "Lg_history = [] # the loss history of Lg\n",
    "learning_rate = 1e-3 \n",
    "iteration = 1200\n",
    "\n",
    "for t in range(iteration):\n",
    "\n",
    "    A_pred = V.mm(V.t())\n",
    "\n",
    "    loss = (A - A_pred).pow(2).sum().sqrt()\n",
    "    Lg_history.append(loss)\n",
    "    loss.backward()\n",
    "    \n",
    "    if t%200 == 0:\n",
    "        print(\"Iteration: %s/%s\" % (t, iteration))\n",
    "        \n",
    "    if t == (iteration - 1):\n",
    "        print(\"Final loss of Lg = %s\" % loss.item())\n",
    "\n",
    "    with torch.no_grad():\n",
    "        V -= learning_rate * V.grad\n",
    "        V.grad.zero_()\n",
    "\n",
    "\n",
    "plt.title(\"Lg Loss\")\n",
    "plt.xlabel(\"iteration\")\n",
    "plt.ylabel(\"loss\")\n",
    "plt.plot(range(iteration), Lg_history)\n",
    "plt.show()"
   ]
  },
  {
   "cell_type": "markdown",
   "metadata": {},
   "source": [
    "## Task 2 User-Movie RecSys\n",
    "\n",
    "Given the rating data `rating.csv`, please represent users $U$ and movies $V$ by minimizing $L_r$"
   ]
  },
  {
   "cell_type": "code",
   "execution_count": 51,
   "metadata": {},
   "outputs": [
    {
     "data": {
      "text/html": [
       "<div>\n",
       "<style scoped>\n",
       "    .dataframe tbody tr th:only-of-type {\n",
       "        vertical-align: middle;\n",
       "    }\n",
       "\n",
       "    .dataframe tbody tr th {\n",
       "        vertical-align: top;\n",
       "    }\n",
       "\n",
       "    .dataframe thead th {\n",
       "        text-align: right;\n",
       "    }\n",
       "</style>\n",
       "<table border=\"1\" class=\"dataframe\">\n",
       "  <thead>\n",
       "    <tr style=\"text-align: right;\">\n",
       "      <th></th>\n",
       "      <th>UserID</th>\n",
       "      <th>MovieID</th>\n",
       "      <th>Rating</th>\n",
       "    </tr>\n",
       "  </thead>\n",
       "  <tbody>\n",
       "    <tr>\n",
       "      <th>0</th>\n",
       "      <td>1</td>\n",
       "      <td>1836</td>\n",
       "      <td>5</td>\n",
       "    </tr>\n",
       "    <tr>\n",
       "      <th>1</th>\n",
       "      <td>1</td>\n",
       "      <td>1097</td>\n",
       "      <td>4</td>\n",
       "    </tr>\n",
       "    <tr>\n",
       "      <th>2</th>\n",
       "      <td>1</td>\n",
       "      <td>2028</td>\n",
       "      <td>5</td>\n",
       "    </tr>\n",
       "    <tr>\n",
       "      <th>3</th>\n",
       "      <td>1</td>\n",
       "      <td>527</td>\n",
       "      <td>5</td>\n",
       "    </tr>\n",
       "    <tr>\n",
       "      <th>4</th>\n",
       "      <td>1</td>\n",
       "      <td>2918</td>\n",
       "      <td>4</td>\n",
       "    </tr>\n",
       "  </tbody>\n",
       "</table>\n",
       "</div>"
      ],
      "text/plain": [
       "   UserID  MovieID  Rating\n",
       "0       1     1836       5\n",
       "1       1     1097       4\n",
       "2       1     2028       5\n",
       "3       1      527       5\n",
       "4       1     2918       4"
      ]
     },
     "execution_count": 51,
     "metadata": {},
     "output_type": "execute_result"
    }
   ],
   "source": [
    "df = pd.read_csv(\"RecSys/rating.csv\") # UserID, MovieID, Rating\n",
    "df.head()"
   ]
  },
  {
   "cell_type": "code",
   "execution_count": 57,
   "metadata": {},
   "outputs": [
    {
     "name": "stdout",
     "output_type": "stream",
     "text": [
      "(6040, 3672)\n"
     ]
    }
   ],
   "source": [
    "# Transform rating.csv dataframe to rating matrix X\n",
    "crosstab = pd.crosstab(df.UserID, df.MovieID)\n",
    "print(crosstab.shape) # crosstab's shape = (|Users|, |Movies|)"
   ]
  },
  {
   "cell_type": "code",
   "execution_count": 71,
   "metadata": {},
   "outputs": [],
   "source": [
    "for index, row in df.iterrows():\n",
    "    crosstab.loc[row['UserID'], row['MovieID']] = row['Rating']"
   ]
  },
  {
   "cell_type": "code",
   "execution_count": 92,
   "metadata": {},
   "outputs": [
    {
     "name": "stdout",
     "output_type": "stream",
     "text": [
      "Iteration: 0/1500\n",
      "Iteration: 100/1500\n",
      "Iteration: 200/1500\n",
      "Iteration: 300/1500\n",
      "Iteration: 400/1500\n",
      "Iteration: 500/1500\n",
      "Iteration: 600/1500\n",
      "Iteration: 700/1500\n",
      "Iteration: 800/1500\n",
      "Iteration: 900/1500\n",
      "Iteration: 1000/1500\n",
      "Iteration: 1100/1500\n",
      "Iteration: 1200/1500\n",
      "Iteration: 1300/1500\n",
      "Iteration: 1400/1500\n",
      "Final loss of Lr = 4710.68212890625\n"
     ]
    },
    {
     "data": {
      "image/png": "[encoded data removed]",
      "text/plain": [
       "<Figure size 432x288 with 1 Axes>"
      ]
     },
     "metadata": {
      "needs_background": "light"
     },
     "output_type": "display_data"
    }
   ],
   "source": [
    "d = 100\n",
    "X = torch.from_numpy(crosstab.to_numpy()).cuda()\n",
    "U = torch.rand(X.shape[0], d).cuda() # User matrix shape = (|U|,  d)\n",
    "U.requires_grad = True\n",
    "V = torch.rand(X.shape[1], d).cuda() # Movie matrix shape = (|V|, d)\n",
    "V.requires_grad = True\n",
    "\n",
    "Lr_history = [] # the loss history of Lr\n",
    "learning_rate = 1e-3 \n",
    "iteration = 1500\n",
    "\n",
    "optimizer = torch.optim.SGD([U,V], lr=learning_rate)\n",
    "\n",
    "for t in range(iteration):\n",
    "\n",
    "    X_pred = U.mm(V.t())\n",
    "\n",
    "    loss = (X - X_pred).pow(2).sum().sqrt()\n",
    "    Lr_history.append(loss)\n",
    "    \n",
    "    optimizer.zero_grad()\n",
    "    \n",
    "    loss.backward()\n",
    "    \n",
    "    if t%100 == 0:\n",
    "        print(\"Iteration: %s/%s\" % (t, iteration))\n",
    "        \n",
    "    if t == (iteration - 1):\n",
    "        print(\"Final loss of Lr = %s\" % loss.item())\n",
    "    \n",
    "    \n",
    "    optimizer.step()\n",
    "\n",
    "\n",
    "plt.title(\"Lr Loss\")\n",
    "plt.xlabel(\"iteration\")\n",
    "plt.ylabel(\"loss\")\n",
    "plt.plot(range(iteration), Lr_history)\n",
    "plt.show()"
   ]
  },
  {
   "cell_type": "markdown",
   "metadata": {},
   "source": [
    "## Task 3 User-Movie RecSys with Movie Tags\n",
    "\n",
    "Given the rating data `rating.csv` and the movie data `movie.csv`, please represent users U, movies $V$ , and tags $T$ by minimizing $L_t$."
   ]
  },
  {
   "cell_type": "code",
   "execution_count": 120,
   "metadata": {},
   "outputs": [
    {
     "data": {
      "text/html": [
       "<div>\n",
       "<style scoped>\n",
       "    .dataframe tbody tr th:only-of-type {\n",
       "        vertical-align: middle;\n",
       "    }\n",
       "\n",
       "    .dataframe tbody tr th {\n",
       "        vertical-align: top;\n",
       "    }\n",
       "\n",
       "    .dataframe thead th {\n",
       "        text-align: right;\n",
       "    }\n",
       "</style>\n",
       "<table border=\"1\" class=\"dataframe\">\n",
       "  <thead>\n",
       "    <tr style=\"text-align: right;\">\n",
       "      <th></th>\n",
       "      <th>Tags</th>\n",
       "    </tr>\n",
       "    <tr>\n",
       "      <th>MovieID</th>\n",
       "      <th></th>\n",
       "    </tr>\n",
       "  </thead>\n",
       "  <tbody>\n",
       "    <tr>\n",
       "      <th>1</th>\n",
       "      <td>Animation|Children's|Comedy</td>\n",
       "    </tr>\n",
       "    <tr>\n",
       "      <th>2</th>\n",
       "      <td>Adventure|Children's|Fantasy</td>\n",
       "    </tr>\n",
       "    <tr>\n",
       "      <th>3</th>\n",
       "      <td>Comedy|Romance</td>\n",
       "    </tr>\n",
       "    <tr>\n",
       "      <th>4</th>\n",
       "      <td>Comedy|Drama</td>\n",
       "    </tr>\n",
       "    <tr>\n",
       "      <th>5</th>\n",
       "      <td>Comedy</td>\n",
       "    </tr>\n",
       "    <tr>\n",
       "      <th>...</th>\n",
       "      <td>...</td>\n",
       "    </tr>\n",
       "    <tr>\n",
       "      <th>3948</th>\n",
       "      <td>Comedy</td>\n",
       "    </tr>\n",
       "    <tr>\n",
       "      <th>3949</th>\n",
       "      <td>Drama</td>\n",
       "    </tr>\n",
       "    <tr>\n",
       "      <th>3950</th>\n",
       "      <td>Drama</td>\n",
       "    </tr>\n",
       "    <tr>\n",
       "      <th>3951</th>\n",
       "      <td>Drama</td>\n",
       "    </tr>\n",
       "    <tr>\n",
       "      <th>3952</th>\n",
       "      <td>Drama|Thriller</td>\n",
       "    </tr>\n",
       "  </tbody>\n",
       "</table>\n",
       "<p>3883 rows × 1 columns</p>\n",
       "</div>"
      ],
      "text/plain": [
       "                                 Tags\n",
       "MovieID                              \n",
       "1         Animation|Children's|Comedy\n",
       "2        Adventure|Children's|Fantasy\n",
       "3                      Comedy|Romance\n",
       "4                        Comedy|Drama\n",
       "5                              Comedy\n",
       "...                               ...\n",
       "3948                           Comedy\n",
       "3949                            Drama\n",
       "3950                            Drama\n",
       "3951                            Drama\n",
       "3952                   Drama|Thriller\n",
       "\n",
       "[3883 rows x 1 columns]"
      ]
     },
     "execution_count": 120,
     "metadata": {},
     "output_type": "execute_result"
    }
   ],
   "source": [
    "movie_df = pd.read_csv(\"RecSys/movie.csv\", index_col=0) # MovieID, Tags\n",
    "movie_df"
   ]
  },
  {
   "cell_type": "code",
   "execution_count": 129,
   "metadata": {},
   "outputs": [
    {
     "data": {
      "text/plain": [
       "(3672, 18)"
      ]
     },
     "execution_count": 129,
     "metadata": {},
     "output_type": "execute_result"
    }
   ],
   "source": [
    "tags = movie_df[\"Tags\"].str.get_dummies(\"|\")\n",
    "movie_list = crosstab.columns.values.tolist()\n",
    "Y = movie_df.join(tags).drop('Tags', axis=1).loc[movie_list]\n",
    "Y.shape # shape = (|V|, |T|)"
   ]
  },
  {
   "cell_type": "code",
   "execution_count": 130,
   "metadata": {},
   "outputs": [],
   "source": [
    "d = 100\n",
    "X = torch.from_numpy(crosstab.to_numpy()).cuda() # Rating shape = (|U|, |V|)\n",
    "U = torch.rand(X.shape[0], d).cuda() # User matrix shape = (|U|,  d)\n",
    "U.requires_grad = True\n",
    "V = torch.rand(X.shape[1], d).cuda() # Movie matrix shape = (|V|, d)\n",
    "V.requires_grad = True\n",
    "\n",
    "Y = torch.from_numpy(Y.to_numpy().T).cuda() # Movie tags shape = (|T|, |V|)\n",
    "T = torch.rand(Y.shape[0], d).cuda() # Tags shape = (|T|, d)\n",
    "T.requires_grad = True"
   ]
  },
  {
   "cell_type": "code",
   "execution_count": 131,
   "metadata": {},
   "outputs": [
    {
     "name": "stdout",
     "output_type": "stream",
     "text": [
      "Iteration: 0/1500\n",
      "Iteration: 100/1500\n",
      "Iteration: 200/1500\n",
      "Iteration: 300/1500\n",
      "Iteration: 400/1500\n",
      "Iteration: 500/1500\n",
      "Iteration: 600/1500\n",
      "Iteration: 700/1500\n",
      "Iteration: 800/1500\n",
      "Iteration: 900/1500\n",
      "Iteration: 1000/1500\n",
      "Iteration: 1100/1500\n",
      "Iteration: 1200/1500\n",
      "Iteration: 1300/1500\n",
      "Iteration: 1400/1500\n",
      "Final loss of Lt = 4774.3779296875\n"
     ]
    },
    {
     "data": {
      "image/png": "[encoded data removed]",
      "text/plain": [
       "<Figure size 432x288 with 1 Axes>"
      ]
     },
     "metadata": {
      "needs_background": "light"
     },
     "output_type": "display_data"
    }
   ],
   "source": [
    "Lt_history = [] # the loss history of Lt\n",
    "learning_rate = 1e-3 \n",
    "iteration = 1500\n",
    "\n",
    "optimizer = torch.optim.SGD([U,V,T], lr=learning_rate)\n",
    "\n",
    "for t in range(iteration):\n",
    "\n",
    "    X_pred = U.mm(V.t())\n",
    "    Y_pred = T.mm(V.t())\n",
    "\n",
    "    loss = (X - X_pred).pow(2).sum().sqrt() + (Y - Y_pred).pow(2).sum().sqrt()\n",
    "    Lt_history.append(loss)\n",
    "    \n",
    "    optimizer.zero_grad()\n",
    "    \n",
    "    loss.backward()\n",
    "    \n",
    "    if t%100 == 0:\n",
    "        print(\"Iteration: %s/%s\" % (t, iteration))\n",
    "        \n",
    "    if t == (iteration - 1):\n",
    "        print(\"Final loss of Lt = %s\" % loss.item())\n",
    "    \n",
    "    \n",
    "    optimizer.step()\n",
    "\n",
    "\n",
    "plt.title(\"Lt Loss\")\n",
    "plt.xlabel(\"iteration\")\n",
    "plt.ylabel(\"loss\")\n",
    "plt.plot(range(iteration), Lt_history)\n",
    "plt.show()"
   ]
  }
 ],
 "metadata": {
  "kernelspec": {
   "display_name": "Python 3.6.10 64-bit ('pytorch15': conda)",
   "language": "python",
   "name": "python361064bitpytorch15conda6dfa5d11f9dc4869915e9696c35b4e03"
  },
  "language_info": {
   "codemirror_mode": {
    "name": "ipython",
    "version": 3
   },
   "file_extension": ".py",
   "mimetype": "text/x-python",
   "name": "python",
   "nbconvert_exporter": "python",
   "pygments_lexer": "ipython3",
   "version": "3.6.10"
  }
 },
 "nbformat": 4,
 "nbformat_minor": 4
}
