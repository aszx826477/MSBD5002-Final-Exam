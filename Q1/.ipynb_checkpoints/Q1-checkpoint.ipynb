{
 "cells": [
  {
   "cell_type": "markdown",
   "metadata": {},
   "source": [
    "# Q1 Dimensionality Reduction on Data Feature"
   ]
  },
  {
   "cell_type": "code",
   "execution_count": 111,
   "metadata": {},
   "outputs": [],
   "source": [
    "import numpy as np\n",
    "import matplotlib.pyplot as plt\n",
    "from scipy.io import loadmat\n",
    "\n",
    "from imblearn.over_sampling import SMOTE\n",
    "\n",
    "from sklearn.preprocessing import StandardScaler\n",
    "from sklearn.decomposition import PCA\n",
    "from sklearn.manifold import LocallyLinearEmbedding\n",
    "from sklearn.model_selection import train_test_split\n",
    "from sklearn.linear_model import LogisticRegression\n",
    "from sklearn.metrics import classification_report\n",
    "from sklearn.ensemble import RandomForestClassifier\n",
    "\n",
    "from lightgbm import LGBMClassifier"
   ]
  },
  {
   "cell_type": "code",
   "execution_count": 125,
   "metadata": {},
   "outputs": [],
   "source": [
    "data = loadmat(\"Q1.mat\")\n",
    "X = data['X']\n",
    "y = data['y'].ravel()"
   ]
  },
  {
   "cell_type": "code",
   "execution_count": 126,
   "metadata": {},
   "outputs": [
    {
     "name": "stdout",
     "output_type": "stream",
     "text": [
      "Number of positive samples = 61\n",
      "Number of negative samples = 3625\n"
     ]
    }
   ],
   "source": [
    "# Show the number of positive samples and negative samples\n",
    "print(\"Number of positive samples = %s\" % sum(y==1))\n",
    "print(\"Number of negative samples = %s\" % sum(y==0))"
   ]
  },
  {
   "cell_type": "markdown",
   "metadata": {},
   "source": [
    "We find that the dataset is highly imbalanced so we will use `SMOTE` algorithm to rebuild dataset.\n",
    "\n",
    "https://www.cnblogs.com/xyou/p/9075443.html"
   ]
  },
  {
   "cell_type": "code",
   "execution_count": 127,
   "metadata": {},
   "outputs": [],
   "source": [
    "smote = SMOTE(random_state=0) \n",
    "X_smote, y_smote = smote.fit_sample(X, y)"
   ]
  },
  {
   "cell_type": "code",
   "execution_count": 128,
   "metadata": {},
   "outputs": [
    {
     "name": "stdout",
     "output_type": "stream",
     "text": [
      "Number of positive samples = 3625\n",
      "Number of negative samples = 3625\n"
     ]
    }
   ],
   "source": [
    "print(\"Number of positive samples = %s\" % sum(y_smote==1))\n",
    "print(\"Number of negative samples = %s\" % sum(y_smote==0))"
   ]
  },
  {
   "cell_type": "markdown",
   "metadata": {},
   "source": [
    "## Find the ideal number of dimensions that reduce\n",
    "\n",
    "Then we can find that if we keep about 90% of information, we can keep about `250` dimensions.\n",
    "\n",
    "[1] How to determine the number of dimensions reduce\n",
    "\n",
    "http://blog.sina.com.cn/s/blog_628cc2b70102xq70.html\n",
    "\n",
    "[2] 12 methods for dimensions reduction\n",
    "\n",
    "https://www.cnblogs.com/acm-jing/p/7528874.html"
   ]
  },
  {
   "cell_type": "code",
   "execution_count": 129,
   "metadata": {},
   "outputs": [
    {
     "data": {
      "image/png": "[encoded data removed]",
      "text/plain": [
       "<Figure size 1080x288 with 2 Axes>"
      ]
     },
     "metadata": {
      "needs_background": "light"
     },
     "output_type": "display_data"
    }
   ],
   "source": [
    "# Split training set and testing set\n",
    "X_train, X_test, y_train, y_test = train_test_split(X_smote, y_smote, test_size=0.2)\n",
    "\n",
    "# Standardization\n",
    "X_std = StandardScaler().fit_transform(X_train)\n",
    "\n",
    "# Compute eigen-vector and eigen-value\n",
    "cov_mat = np.cov(X_std.T)\n",
    "eig_vals, eig_vecs = np.linalg.eig(cov_mat)\n",
    "\n",
    "# Build a pair for (eigen-value and eigen-vector)\n",
    "eig_pairs = [(np.abs(eig_vals[i]), eig_vecs[:, i]) for i in range(len(eig_vals))]\n",
    "\n",
    "# Sort eigen-vector from big to small\n",
    "eig_pairs.sort(key = lambda x: x[0], reverse=True)\n",
    "\n",
    "# Compute \n",
    "tot = sum(eig_vals)\n",
    "var_exp = [(i/tot)*100 for i in sorted(eig_vals, reverse=True)]\n",
    "cum_var_exp = np.cumsum(var_exp)\n",
    "\n",
    "# Plot\n",
    "fig = plt.figure(figsize=(15,4))\n",
    "ax1 = plt.subplot(1,2,1)\n",
    "ax2 = plt.subplot(1,2,2)\n",
    "\n",
    "plt.sca(ax1)\n",
    "plt.title(\"Eigen-Value Percentage\")\n",
    "plt.xlabel(\"Dimensions\")\n",
    "plt.ylabel(\"Percentage(%)\")\n",
    "plt.plot(var_exp)\n",
    "\n",
    "plt.sca(ax2)\n",
    "plt.title(\"Cumulative Eigen-Value\")\n",
    "plt.xlabel(\"Dimensions\")\n",
    "plt.ylabel(\"Cumulative Values\")\n",
    "plt.plot(cum_var_exp)\n",
    "plt.show()"
   ]
  },
  {
   "cell_type": "code",
   "execution_count": 149,
   "metadata": {},
   "outputs": [],
   "source": [
    "def classification_test(X_train_reduced, y_train, X_test_reduced, y_test):\n",
    "    # Logistic Regression Model\n",
    "    LR = LogisticRegression(penalty='l2', C=1, solver='lbfgs', multi_class='multinomial')\n",
    "    LR.fit(X_train_reduced, y_train)\n",
    "    y_pred = LR.predict(X_test_reduced) # do predict on testing set\n",
    "    print(\"Logistic Regression Testing\")\n",
    "    print(classification_report(y_test, y_pred)) # Show the evaluation result\n",
    "    \n",
    "    # LightGBM Model\n",
    "    lgb = LGBMClassifier(boosting_type='gbdt', max_depth=2, learning_rate=1e-4, n_estimators=5)\n",
    "    lgb.fit(X_train_reduced, y_train)\n",
    "    y_pred = lgb.predict(X_test_reduced) # do predict on testing set\n",
    "    print(\"LightGBM Testing\")\n",
    "    print(classification_report(y_test, y_pred)) # Show the evaluation result\n",
    "    \n",
    "    # Random Forest Model\n",
    "    rf = RandomForestClassifier(n_estimators=5, random_state=0, max_depth=2)\n",
    "    rf.fit(X_train_reduced, y_train)\n",
    "    y_pred = rf.predict(X_test_reduced) # do predict on testing set\n",
    "    print(\"Random Forest Testing\")\n",
    "    print(classification_report(y_test, y_pred)) # Show the evaluation result"
   ]
  },
  {
   "cell_type": "markdown",
   "metadata": {},
   "source": [
    "## Principal Component Analysis (PCA)"
   ]
  },
  {
   "cell_type": "code",
   "execution_count": 130,
   "metadata": {},
   "outputs": [],
   "source": [
    "pca = PCA(n_components=250) # Keep 90%\n",
    "\n",
    "X_train_PCA_reduced = pca.fit_transform(X_train)\n",
    "X_test_PCA_reduced = pca.transform(X_test)"
   ]
  },
  {
   "cell_type": "code",
   "execution_count": 150,
   "metadata": {},
   "outputs": [
    {
     "name": "stdout",
     "output_type": "stream",
     "text": [
      "Logistic Regression Testing\n",
      "              precision    recall  f1-score   support\n",
      "\n",
      "           0       1.00      0.97      0.98       724\n",
      "           1       0.97      1.00      0.98       726\n",
      "\n",
      "    accuracy                           0.98      1450\n",
      "   macro avg       0.98      0.98      0.98      1450\n",
      "weighted avg       0.98      0.98      0.98      1450\n",
      "\n",
      "LightGBM Testing\n",
      "              precision    recall  f1-score   support\n",
      "\n",
      "           0       0.82      0.95      0.88       724\n",
      "           1       0.94      0.79      0.86       726\n",
      "\n",
      "    accuracy                           0.87      1450\n",
      "   macro avg       0.88      0.87      0.87      1450\n",
      "weighted avg       0.88      0.87      0.87      1450\n",
      "\n",
      "Random Forest Testing\n",
      "              precision    recall  f1-score   support\n",
      "\n",
      "           0       0.99      0.96      0.97       724\n",
      "           1       0.96      0.99      0.97       726\n",
      "\n",
      "    accuracy                           0.97      1450\n",
      "   macro avg       0.97      0.97      0.97      1450\n",
      "weighted avg       0.97      0.97      0.97      1450\n",
      "\n"
     ]
    }
   ],
   "source": [
    "classification_test(X_train_PCA_reduced, y_train, X_test_PCA_reduced, y_test)"
   ]
  },
  {
   "cell_type": "markdown",
   "metadata": {},
   "source": [
    "## Locally Linear Embedding (LLE)"
   ]
  },
  {
   "cell_type": "code",
   "execution_count": 132,
   "metadata": {},
   "outputs": [],
   "source": [
    "lle = LocallyLinearEmbedding(n_components=250)\n",
    "X_train_LLE_reduced = lle.fit_transform(X_train)\n",
    "X_test_LLE_reduced = lle.transform(X_test)"
   ]
  },
  {
   "cell_type": "code",
   "execution_count": 151,
   "metadata": {},
   "outputs": [
    {
     "name": "stdout",
     "output_type": "stream",
     "text": [
      "Logistic Regression Testing\n",
      "              precision    recall  f1-score   support\n",
      "\n",
      "           0       0.90      0.93      0.91       724\n",
      "           1       0.93      0.89      0.91       726\n",
      "\n",
      "    accuracy                           0.91      1450\n",
      "   macro avg       0.91      0.91      0.91      1450\n",
      "weighted avg       0.91      0.91      0.91      1450\n",
      "\n",
      "LightGBM Testing\n",
      "              precision    recall  f1-score   support\n",
      "\n",
      "           0       0.64      0.94      0.76       724\n",
      "           1       0.89      0.48      0.62       726\n",
      "\n",
      "    accuracy                           0.71      1450\n",
      "   macro avg       0.76      0.71      0.69      1450\n",
      "weighted avg       0.76      0.71      0.69      1450\n",
      "\n",
      "Random Forest Testing\n",
      "              precision    recall  f1-score   support\n",
      "\n",
      "           0       0.80      0.90      0.85       724\n",
      "           1       0.88      0.78      0.83       726\n",
      "\n",
      "    accuracy                           0.84      1450\n",
      "   macro avg       0.84      0.84      0.84      1450\n",
      "weighted avg       0.84      0.84      0.84      1450\n",
      "\n"
     ]
    }
   ],
   "source": [
    "classification_test(X_train_LLE_reduced, y_train, X_test_LLE_reduced, y_test)"
   ]
  }
 ],
 "metadata": {
  "kernelspec": {
   "display_name": "Python 3.6.10 64-bit ('pytorch15': conda)",
   "language": "python",
   "name": "python361064bitpytorch15conda6dfa5d11f9dc4869915e9696c35b4e03"
  },
  "language_info": {
   "codemirror_mode": {
    "name": "ipython",
    "version": 3
   },
   "file_extension": ".py",
   "mimetype": "text/x-python",
   "name": "python",
   "nbconvert_exporter": "python",
   "pygments_lexer": "ipython3",
   "version": "3.6.10"
  }
 },
 "nbformat": 4,
 "nbformat_minor": 4
}
