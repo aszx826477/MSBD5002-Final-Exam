{
 "cells": [
  {
   "cell_type": "markdown",
   "metadata": {},
   "source": [
    "# Q1 Dimensionality Reduction on Data Feature\n",
    "\n",
    "## Reference\n",
    "\n",
    "* PCA中降维数确定方法: http://blog.sina.com.cn/s/blog_628cc2b70102xq70.html\n",
    "* python大战机器学习——数据降维: https://www.cnblogs.com/acm-jing/p/7528874.html\n",
    "* 非平衡数据的处理 SMOTE: https://www.cnblogs.com/xyou/p/9075443.html\n",
    "* Wikipedia: https://en.wikipedia.org/wiki/Nonlinear_dimensionality_reduction#Locally-linear_embedding\n",
    "* LLE Algorithm Pseudocode: https://cs.nyu.edu/~roweis/lle/algorithm.html\n",
    "* 机器学习降维算法三：LLE (Locally Linear Embedding) 局部线性嵌入: https://www.cnblogs.com/xbinworld/archive/2012/07/09/LLE.html\n",
    "* LLE降维: http://www.luyixian.cn/news_show_304405.aspx"
   ]
  },
  {
   "cell_type": "code",
   "execution_count": 99,
   "metadata": {},
   "outputs": [],
   "source": [
    "import numpy as np\n",
    "import matplotlib.pyplot as plt\n",
    "\n",
    "from imblearn.over_sampling import SMOTE\n",
    "from scipy.io import loadmat\n",
    "from scipy.spatial.distance import pdist, squareform\n",
    "\n",
    "from sklearn.preprocessing import StandardScaler\n",
    "from sklearn.model_selection import train_test_split\n",
    "from sklearn.linear_model import LogisticRegression\n",
    "from sklearn.metrics import classification_report\n",
    "from sklearn.ensemble import RandomForestClassifier\n",
    "\n",
    "from lightgbm import LGBMClassifier"
   ]
  },
  {
   "cell_type": "code",
   "execution_count": 7,
   "metadata": {},
   "outputs": [],
   "source": [
    "data = loadmat(\"Q1.mat\")\n",
    "X = data['X']\n",
    "y = data['y'].ravel()"
   ]
  },
  {
   "cell_type": "code",
   "execution_count": 8,
   "metadata": {},
   "outputs": [
    {
     "name": "stdout",
     "output_type": "stream",
     "text": [
      "Number of positive samples = 61\n",
      "Number of negative samples = 3625\n"
     ]
    }
   ],
   "source": [
    "# Show the number of positive samples and negative samples\n",
    "print(\"Number of positive samples = %s\" % sum(y==1))\n",
    "print(\"Number of negative samples = %s\" % sum(y==0))"
   ]
  },
  {
   "cell_type": "markdown",
   "metadata": {},
   "source": [
    "We find that the dataset is highly imbalanced so we will use `SMOTE` algorithm to rebuild dataset."
   ]
  },
  {
   "cell_type": "code",
   "execution_count": 9,
   "metadata": {},
   "outputs": [],
   "source": [
    "smote = SMOTE(random_state=0) \n",
    "X_smote, y_smote = smote.fit_sample(X, y)"
   ]
  },
  {
   "cell_type": "code",
   "execution_count": 10,
   "metadata": {},
   "outputs": [
    {
     "name": "stdout",
     "output_type": "stream",
     "text": [
      "Number of positive samples = 3625\n",
      "Number of negative samples = 3625\n"
     ]
    }
   ],
   "source": [
    "print(\"Number of positive samples = %s\" % sum(y_smote==1))\n",
    "print(\"Number of negative samples = %s\" % sum(y_smote==0))"
   ]
  },
  {
   "cell_type": "markdown",
   "metadata": {},
   "source": [
    "## Find the ideal number of dimensions that reduce\n",
    "\n",
    "Then we can find that if we keep about 90% of information, we can keep about `250` dimensions."
   ]
  },
  {
   "cell_type": "code",
   "execution_count": 11,
   "metadata": {},
   "outputs": [
    {
     "data": {
      "image/png": "[encoded data removed]",
      "text/plain": [
       "<Figure size 1080x288 with 2 Axes>"
      ]
     },
     "metadata": {
      "needs_background": "light"
     },
     "output_type": "display_data"
    }
   ],
   "source": [
    "# Split training set and testing set\n",
    "X_train, X_test, y_train, y_test = train_test_split(X_smote, y_smote, test_size=0.2)\n",
    "\n",
    "# Standardization\n",
    "X_std = StandardScaler().fit_transform(X_train)\n",
    "\n",
    "# Compute eigen-vector and eigen-value\n",
    "cov_mat = np.cov(X_std.T)\n",
    "eig_vals, eig_vecs = np.linalg.eig(cov_mat)\n",
    "\n",
    "# Build a pair for (eigen-value and eigen-vector)\n",
    "eig_pairs = [(np.abs(eig_vals[i]), eig_vecs[:, i]) for i in range(len(eig_vals))]\n",
    "\n",
    "# Sort eigen-vector from big to small\n",
    "eig_pairs.sort(key = lambda x: x[0], reverse=True)\n",
    "\n",
    "# Compute \n",
    "tot = sum(eig_vals)\n",
    "var_exp = [(i/tot)*100 for i in sorted(eig_vals, reverse=True)]\n",
    "cum_var_exp = np.cumsum(var_exp)\n",
    "\n",
    "# Plot\n",
    "fig = plt.figure(figsize=(15,4))\n",
    "ax1 = plt.subplot(1,2,1)\n",
    "ax2 = plt.subplot(1,2,2)\n",
    "\n",
    "plt.sca(ax1)\n",
    "plt.title(\"Eigen-Value Percentage\")\n",
    "plt.xlabel(\"Dimensions\")\n",
    "plt.ylabel(\"Percentage(%)\")\n",
    "plt.plot(var_exp)\n",
    "\n",
    "plt.sca(ax2)\n",
    "plt.title(\"Cumulative Eigen-Value\")\n",
    "plt.xlabel(\"Dimensions\")\n",
    "plt.ylabel(\"Cumulative Values\")\n",
    "plt.plot(cum_var_exp)\n",
    "plt.show()"
   ]
  },
  {
   "cell_type": "code",
   "execution_count": 106,
   "metadata": {},
   "outputs": [],
   "source": [
    "def classification_test(X_train_reduced, y_train, X_test_reduced, y_test):\n",
    "    # Logistic Regression Model\n",
    "    LR = LogisticRegression(penalty='l2', C=1, solver='lbfgs', multi_class='multinomial')\n",
    "    LR.fit(X_train_reduced, y_train)\n",
    "    y_pred = LR.predict(X_test_reduced) # do predict on testing set\n",
    "    print(\"Logistic Regression Testing\")\n",
    "    print(classification_report(y_test, y_pred)) # Show the evaluation result\n",
    "    \n",
    "    # LightGBM Model\n",
    "    lgb = LGBMClassifier(boosting_type='gbdt', max_depth=None, learning_rate=1e-2, n_estimators=5)\n",
    "    lgb.fit(X_train_reduced, y_train)\n",
    "    y_pred = lgb.predict(X_test_reduced) # do predict on testing set\n",
    "    print(\"LightGBM Testing\")\n",
    "    print(classification_report(y_test, y_pred)) # Show the evaluation result\n",
    "    \n",
    "    # Random Forest Model\n",
    "    rf = RandomForestClassifier(n_estimators=5, random_state=0, max_depth=2)\n",
    "    rf.fit(X_train_reduced, y_train)\n",
    "    y_pred = rf.predict(X_test_reduced) # do predict on testing set\n",
    "    print(\"Random Forest Testing\")\n",
    "    print(classification_report(y_test, y_pred)) # Show the evaluation result"
   ]
  },
  {
   "cell_type": "markdown",
   "metadata": {},
   "source": [
    "## Principal Component Analysis (PCA)"
   ]
  },
  {
   "cell_type": "code",
   "execution_count": 14,
   "metadata": {},
   "outputs": [],
   "source": [
    "def pca(XMat, k):\n",
    "    \"\"\"\n",
    "    The PCA function\n",
    "    \n",
    "    Input:\n",
    "        XMat: shape = (|X|, d), |X| the number of samples, d the number of features\n",
    "        k: takes the first k eigenvectors\n",
    "    Output:\n",
    "        finalData: the matrix with lower dimensions\n",
    "        reconData: the matrix after moving axis\n",
    "    \"\"\"\n",
    "    average = np.mean(XMat, axis=0) \n",
    "    m, n = np.shape(XMat)\n",
    "    data_adjust = []\n",
    "    avgs = np.tile(average, (m, 1))\n",
    "    data_adjust = XMat - avgs\n",
    "    \n",
    "    # Compute covariance maxtrix\n",
    "    covX = np.cov(data_adjust.T)\n",
    "    \n",
    "    # Compute the eigenvalue and eigenvector\n",
    "    featValue, featVec=  np.linalg.eig(covX)\n",
    "    \n",
    "    # Sort the eigenvalue from big to small\n",
    "    index = np.argsort(-featValue)\n",
    "    \n",
    "    finalData = []\n",
    "    if k > n:\n",
    "        print(\"k must lower than feature number\")\n",
    "        return\n",
    "    else:\n",
    "        selectVec = np.matrix(featVec.T[index[:k]]) \n",
    "        finalData = data_adjust * selectVec.T \n",
    "        reconData = (finalData * selectVec) + average  \n",
    "    return finalData, reconData"
   ]
  },
  {
   "cell_type": "code",
   "execution_count": null,
   "metadata": {},
   "outputs": [],
   "source": [
    "X_train_PCA, X_train_PCA_recon = pca(X_train, 250)\n",
    "X_test_PCA, X_test_PCA_recon = pca(X_test, 250)"
   ]
  },
  {
   "cell_type": "code",
   "execution_count": 107,
   "metadata": {},
   "outputs": [
    {
     "name": "stdout",
     "output_type": "stream",
     "text": [
      "Logistic Regression Testing\n",
      "              precision    recall  f1-score   support\n",
      "\n",
      "           0       0.52      0.76      0.61       699\n",
      "           1       0.60      0.34      0.43       751\n",
      "\n",
      "    accuracy                           0.54      1450\n",
      "   macro avg       0.56      0.55      0.52      1450\n",
      "weighted avg       0.56      0.54      0.52      1450\n",
      "\n",
      "LightGBM Testing\n",
      "              precision    recall  f1-score   support\n",
      "\n",
      "           0       0.68      0.92      0.78       699\n",
      "           1       0.89      0.60      0.71       751\n",
      "\n",
      "    accuracy                           0.75      1450\n",
      "   macro avg       0.78      0.76      0.75      1450\n",
      "weighted avg       0.79      0.75      0.75      1450\n",
      "\n",
      "Random Forest Testing\n",
      "              precision    recall  f1-score   support\n",
      "\n",
      "           0       0.82      0.90      0.86       699\n",
      "           1       0.90      0.81      0.85       751\n",
      "\n",
      "    accuracy                           0.85      1450\n",
      "   macro avg       0.86      0.86      0.85      1450\n",
      "weighted avg       0.86      0.85      0.85      1450\n",
      "\n"
     ]
    }
   ],
   "source": [
    "classification_test(X_train_PCA, y_train, X_test_PCA, y_test)"
   ]
  },
  {
   "cell_type": "markdown",
   "metadata": {},
   "source": [
    "## Locally Linear Embedding (LLE)"
   ]
  },
  {
   "cell_type": "code",
   "execution_count": 98,
   "metadata": {},
   "outputs": [],
   "source": [
    "def get_k_maxtria(D, k):\n",
    "    '''\n",
    "    define get_k_maxtria function.\n",
    "    Input:\n",
    "        D：numpy.ndarry,  size: [num_sample, num_feature]\n",
    "        k: float,  the nearest neighbor parameter k\n",
    "    Return:\n",
    "        k_idx: numpy.ndarry,  size: [num_sample, k], the index of the k nearest neighbor\n",
    "    '''\n",
    "    \n",
    "    dist = pdist(D, 'euclidean')\n",
    "    dist = squareform(dist)\n",
    "    m = dist.shape[0]\n",
    "    k_idx = np.zeros([m, k])\n",
    "    for i in range(m):\n",
    "        topk = np.argsort(dist[i])[1:k + 1]\n",
    "        k_idx[i] = k_idx[i] + topk\n",
    "\n",
    "    return k_idx.astype(np.int32)\n",
    "\n",
    "\n",
    "def get_w(D, knear_idx, k):\n",
    "    '''\n",
    "    define get_w function.\n",
    "    \n",
    "    Input:\n",
    "        D：numpy.ndarry,  size: [num_sample, num_feature]\n",
    "        kear_idx: numpy.ndarry,  size: [num_sample, k]\n",
    "        k: float,  the nearest neighbor parameter k\n",
    "    Return:\n",
    "        w: numpy.ndarry,  size: [num_sample, k], Linear reconstruction coefficient matrix\n",
    "    '''\n",
    "    \n",
    "    m = D.shape[0]\n",
    "    w = np.zeros([m, k])\n",
    "    I = np.ones((k, 1))\n",
    "    for i in range(m):\n",
    "        Q_x = D[knear_idx[i]]       \n",
    "        xi = D[i]              \n",
    "        xi = np.tile(xi, (k,1))   \n",
    "        C = np.dot((xi - Q_x), (xi-Q_x).T)    \n",
    "        C = C +np.eye(k)*(1e-3)*np.trace(C)\n",
    "        C_inv = np.linalg.pinv(C)\n",
    "        w[i,:] = np.sum(C_inv, axis=0)/np.sum(C_inv)    \n",
    "\n",
    "    return w\n",
    "    \n",
    "      \n",
    "def lle(D, k=5, d=2):\n",
    "    '''\n",
    "    define lle function.\n",
    "    Input:\n",
    "        D：numpy.ndarry,  size: [num_sample, num_feature], the sample set D\n",
    "        k: float,  default=5, the nearest neighbor parameter k\n",
    "        d: float,  default=2, the dimension after dimensionality reduction\n",
    "    Return:\n",
    "        Z: numpy.ndarry,  size: [num_sample, d], The projection of the sample set D in a low-dimensional space\n",
    "    '''     \n",
    "    m = D.shape[0]\n",
    "    knear_idx = get_k_maxtria(D, k)\n",
    "    w = get_w(D, knear_idx, k)            \n",
    "    W = np.zeros([m,m])\n",
    "    for i in range(m):\n",
    "        for j in range(k):\n",
    "            idx = knear_idx[i, j]\n",
    "            W[i, idx] = w[i, j]\n",
    "    I = np.eye(m)\n",
    "    M = np.dot((I-W).T, (I-W))\n",
    "    A, U = np.linalg.eig(M)\n",
    "    top_A_idx = np.argsort(A)[1:d+1]\n",
    "    Z = U[:,top_A_idx]\n",
    "    \n",
    "    return Z"
   ]
  },
  {
   "cell_type": "code",
   "execution_count": 101,
   "metadata": {},
   "outputs": [],
   "source": [
    "X_train_LLE = lle(X_train,k=5,d=250)"
   ]
  },
  {
   "cell_type": "code",
   "execution_count": 100,
   "metadata": {},
   "outputs": [],
   "source": [
    "X_test_LLE = lle(X_test,k=5,d=250)"
   ]
  },
  {
   "cell_type": "code",
   "execution_count": 108,
   "metadata": {},
   "outputs": [
    {
     "name": "stderr",
     "output_type": "stream",
     "text": [
      "C:\\Users\\yelbee\\Anaconda3\\envs\\pytorch15\\lib\\site-packages\\ipykernel_launcher.py:1: ComplexWarning: Casting complex values to real discards the imaginary part\n",
      "  \"\"\"Entry point for launching an IPython kernel.\n"
     ]
    },
    {
     "name": "stdout",
     "output_type": "stream",
     "text": [
      "Logistic Regression Testing\n",
      "              precision    recall  f1-score   support\n",
      "\n",
      "           0       0.53      0.71      0.61       699\n",
      "           1       0.61      0.42      0.50       751\n",
      "\n",
      "    accuracy                           0.56      1450\n",
      "   macro avg       0.57      0.57      0.55      1450\n",
      "weighted avg       0.57      0.56      0.55      1450\n",
      "\n",
      "LightGBM Testing\n",
      "              precision    recall  f1-score   support\n",
      "\n",
      "           0       0.54      0.54      0.54       699\n",
      "           1       0.57      0.57      0.57       751\n",
      "\n",
      "    accuracy                           0.55      1450\n",
      "   macro avg       0.55      0.55      0.55      1450\n",
      "weighted avg       0.55      0.55      0.55      1450\n",
      "\n",
      "Random Forest Testing\n",
      "              precision    recall  f1-score   support\n",
      "\n",
      "           0       0.56      0.62      0.59       699\n",
      "           1       0.61      0.56      0.58       751\n",
      "\n",
      "    accuracy                           0.58      1450\n",
      "   macro avg       0.59      0.59      0.58      1450\n",
      "weighted avg       0.59      0.58      0.58      1450\n",
      "\n"
     ]
    }
   ],
   "source": [
    "classification_test(X_train_LLE.astype('float'), y_train, X_test_LLE.astype('float'), y_test)"
   ]
  }
 ],
 "metadata": {
  "kernelspec": {
   "display_name": "Python 3.6.10 64-bit ('pytorch15': conda)",
   "language": "python",
   "name": "python361064bitpytorch15conda6dfa5d11f9dc4869915e9696c35b4e03"
  },
  "language_info": {
   "codemirror_mode": {
    "name": "ipython",
    "version": 3
   },
   "file_extension": ".py",
   "mimetype": "text/x-python",
   "name": "python",
   "nbconvert_exporter": "python",
   "pygments_lexer": "ipython3",
   "version": "3.6.10"
  }
 },
 "nbformat": 4,
 "nbformat_minor": 4
}
